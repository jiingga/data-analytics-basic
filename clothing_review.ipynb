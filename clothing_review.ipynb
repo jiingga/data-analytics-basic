{
  "nbformat": 4,
  "nbformat_minor": 0,
  "metadata": {
    "colab": {
      "name": "clothing-review.ipynb",
      "provenance": [],
      "collapsed_sections": []
    },
    "kernelspec": {
      "name": "python3",
      "display_name": "Python 3"
    },
    "language_info": {
      "name": "python"
    }
  },
  "cells": [
    {
      "cell_type": "markdown",
      "metadata": {
        "id": "xBTcoYk6Y39Y"
      },
      "source": [
        "This is a simple text analytics demo.  \n",
        "The purpose of this demo workbook is to get the **polarity scores** of each user review.  \n",
        "To run, press \"Ctrl + Enter\" at every cell."
      ]
    },
    {
      "cell_type": "code",
      "metadata": {
        "id": "AL1tp7pPYtAz"
      },
      "source": [
        "import pandas as pd\n",
        "import seaborn as sns\n",
        "import nltk\n",
        "from nltk.sentiment.vader import SentimentIntensityAnalyzer\n",
        "nltk.download('vader_lexicon')\n",
        "analyzer = SentimentIntensityAnalyzer()"
      ],
      "execution_count": null,
      "outputs": []
    },
    {
      "cell_type": "markdown",
      "metadata": {
        "id": "JTkWAuMWaO_h"
      },
      "source": [
        "About the [customer review file](https://raw.githubusercontent.com/jiingga/data-analytics-basic/main/Clothing-Review-Filtered.csv) used in this demo:  \n",
        "* there are 2 columns - customer's rating and review\n",
        "* it is extracted from [HERE](https://www.kaggle.com/nicapotato/womens-ecommerce-clothing-reviews)"
      ]
    },
    {
      "cell_type": "markdown",
      "metadata": {
        "id": "dCY41DB3bAQy"
      },
      "source": [
        "For future use, you will need to:\n",
        "* prepare your own review file in your computer or website, \n",
        "* (if it is in your computer) save it in .csv format, then drag it to the \"file\" tab at the left pane, replace the \"file\" below with your file name.\n",
        "* (if it is on a website) replace the \"file\" below with the url."
      ]
    },
    {
      "cell_type": "code",
      "metadata": {
        "id": "bXDsntS3X6t1"
      },
      "source": [
        "file = 'https://raw.githubusercontent.com/jiingga/data-analytics-basic/main/Clothing-Review-Filtered.csv'\n",
        "df = pd.read_csv(file)\n",
        "df"
      ],
      "execution_count": null,
      "outputs": []
    },
    {
      "cell_type": "code",
      "metadata": {
        "id": "cSl5F4qlcgyA"
      },
      "source": [
        "results = [analyzer.polarity_scores(text) for text in df['Review Text']]\n",
        "finaldf = df.join(pd.DataFrame(results))\n",
        "finaldf"
      ],
      "execution_count": null,
      "outputs": []
    },
    {
      "cell_type": "code",
      "metadata": {
        "id": "fgG0i01Xd4FX"
      },
      "source": [
        "finaldf.to_csv('final_score.csv', index = False)"
      ],
      "execution_count": null,
      "outputs": []
    }
  ]
}